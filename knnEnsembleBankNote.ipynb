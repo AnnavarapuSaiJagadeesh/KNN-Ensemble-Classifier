{
  "cells": [
    {
      "cell_type": "markdown",
      "metadata": {
        "id": "view-in-github",
        "colab_type": "text"
      },
      "source": [
        "<a href=\"https://colab.research.google.com/github/AnnavarapuSaiJagadeesh/Mini-Project/blob/main/knnEnsembleBankNote.ipynb\" target=\"_parent\"><img src=\"https://colab.research.google.com/assets/colab-badge.svg\" alt=\"Open In Colab\"/></a>"
      ]
    },
    {
      "cell_type": "code",
      "execution_count": null,
      "metadata": {
        "colab": {
          "base_uri": "https://localhost:8080/"
        },
        "id": "opiZHswIBIFj",
        "outputId": "40497cc5-91ca-478c-ac07-dfcd0fc4822c"
      },
      "outputs": [
        {
          "name": "stdout",
          "output_type": "stream",
          "text": [
            " australian.dat       glass.data\t        parkinson.txt\n",
            " balance-scale.data   haberman.data\t        qsar.csv\n",
            " banknote.txt\t      heart.dat\t\t        segmentation.data\n",
            " bcw.data\t      ionosphere.data\t        sonar.all-data\n",
            " breast-cancer.data   iris.data\t\t        vowel-context.data\n",
            " bupa.data\t      letter-recognition.data  'Wholesale customers data.csv'\n",
            " german.data\t      liver.data\t        wine.data\n"
          ]
        }
      ],
      "source": [
        "from google.colab import drive\n",
        "drive.mount('/content/drive')\n",
        "\n",
        "import os\n",
        "os.chdir(\"drive/My Drive/Colab Notebooks/Mini Project Knn/dataSets\")\n",
        "# os.chdir(\"dataSets/\")\n",
        "# os.chdir(\"dataSets/\")\n",
        "!ls\n"
      ]
    },
    {
      "cell_type": "code",
      "execution_count": null,
      "metadata": {
        "id": "is3tv6AFBIFY"
      },
      "outputs": [],
      "source": [
        "import math\n",
        "from collections import Counter\n",
        "import numpy as np\n",
        "import pandas as pd\n",
        "from sklearn.model_selection import train_test_split\n",
        "from sklearn.preprocessing import MinMaxScaler\n",
        "from sklearn.metrics import accuracy_score\n",
        "\n",
        "class KnnProposed:\n",
        "    def eucleadianDistance(self,row1, row2):\n",
        "        sum = 0\n",
        "        for i in range(len(row1)):\n",
        "            sum = sum + abs(row1[i] - row2[i])**2\n",
        "        return sum**(0.5)\n",
        "\n",
        "    def fit(self, X_train,y_train):\n",
        "        self.X_train = X_train\n",
        "        self.y_train = y_train\n",
        "\n",
        "    def predict(self,X_test):\n",
        "        predict = []\n",
        "        rootN = int(self.X_train.shape[0]**0.5)\n",
        "        for i in range(len(X_test)):\n",
        "            distance = []\n",
        "            probability = {}\n",
        "            for j in range(len(self.X_train)):\n",
        "                distance.append((self.eucleadianDistance(X_test.iloc[i],self.X_train.iloc[j]),j))\n",
        "            distance = sorted(distance)\n",
        "            for k in range(1,rootN,2):\n",
        "                reqDistance = distance[:k]\n",
        "                for i1 in range(len(reqDistance)):\n",
        "                    a = reqDistance[i1]\n",
        "                    if(self.y_train.iloc[a[1]] in probability.keys()):\n",
        "                        probability[self.y_train.iloc[a[1]]] = probability[self.y_train.iloc[a[1]]] + (1/(math.log(i1+2,2)))\n",
        "                    else:\n",
        "                        probability[self.y_train.iloc[a[1]]] = 0 + (1/(math.log(i1+2,2)))\n",
        "            key = list(probability.keys())\n",
        "            value = list(probability.values())\n",
        "            predict.append(key[value.index(max(value))])\n",
        "        return predict\n",
        "    \n",
        "\n",
        "class KnnWeighted:\n",
        "        \n",
        "    def eucleadianDistance(self,row1, row2):\n",
        "        sum = 0\n",
        "        for i in range(len(row1)):\n",
        "            sum = sum + abs(row1[i] - row2[i])**2\n",
        "        return sum**(0.5)\n",
        "\n",
        "    def fit(self, X_train,y_train):\n",
        "        self.X_train = X_train\n",
        "        # print(X.columns[:-1])\n",
        "        self.y_train = y_train\n",
        "\n",
        "    def predict(self,X_test):\n",
        "        predict = []\n",
        "        for i in range(len(X_test)):\n",
        "            distance = []\n",
        "            probability = {}\n",
        "            for j in range(len(self.X_train)):\n",
        "                distance.append((self.eucleadianDistance(X_test.iloc[i],self.X_train.iloc[j]),j))\n",
        "            distance = sorted(distance)\n",
        "            for i1 in range(len(distance)):\n",
        "                a = distance[i1]\n",
        "                if(self.y_train.iloc[a[1]] in probability.keys()):\n",
        "                    probability[self.y_train.iloc[a[1]]] = probability[self.y_train.iloc[a[1]]] + (1/(i1+1))\n",
        "                else:\n",
        "                    probability[self.y_train.iloc[a[1]]] = 0  + (1/(i1+1))\n",
        "            key = list(probability.keys())\n",
        "            value = list(probability.values())\n",
        "            predict.append(key[value.index(max(value))])\n",
        "        return predict\n",
        "\n",
        "\n",
        "class Knn:\n",
        "    def __init__(self,k):\n",
        "        self.k = k\n",
        "\n",
        "    def eucleadianDistance(self,row1, row2):\n",
        "        sum = 0\n",
        "        for i in range(len(row1)):\n",
        "            sum = sum + (row1[i] - row2[i])**2\n",
        "        return sum**(0.5)\n",
        "\n",
        "    def fit(self, X_train,y_train):\n",
        "        self.X_train = X_train\n",
        "        # print(X.columns[:-1])\n",
        "        self.y_train = y_train\n",
        "\n",
        "    def predict(self,X_test):\n",
        "        predict = []\n",
        "        for i in range(len(X_test)):\n",
        "            distance = []\n",
        "            # for num,j in enumerate(self.X_train):\n",
        "            for j in range(len(self.X_train)):\n",
        "                distance.append((self.eucleadianDistance(X_test.iloc[i],self.X_train.iloc[j]),j))\n",
        "            distance = sorted(distance)\n",
        "            k_nearest = distance[:self.k]\n",
        "            k_labels = [self.y_train.iloc[num] for dis,num in k_nearest]\n",
        "            predict.append(Counter(k_labels).most_common()[0][0])\n",
        "        return predict\n",
        "\n",
        "\n",
        "\n"
      ]
    },
    {
      "cell_type": "code",
      "execution_count": null,
      "metadata": {
        "id": "22nQJotiBIFe"
      },
      "outputs": [],
      "source": [
        "colNames= [\"variance\", \"skewness\",\"curtosis\",\"entropy\",\"result\"]\n",
        "df = pd.read_csv(\"banknote.txt\",sep=\",\",names = colNames,header = None)\n",
        "df.head()\n",
        "minscaler = MinMaxScaler()\n",
        "x = minscaler.fit_transform(df.drop(\"result\",axis =1))\n",
        "X = pd.DataFrame(x,columns=df.columns[:-1])\n",
        "y = df[\"result\"]\n",
        "\n",
        "\n"
      ]
    },
    {
      "cell_type": "code",
      "execution_count": null,
      "metadata": {
        "colab": {
          "base_uri": "https://localhost:8080/"
        },
        "id": "AR8st47_BIFh",
        "outputId": "3e09aafe-2f67-4c71-d27b-176244e3698d"
      },
      "outputs": [
        {
          "output_type": "stream",
          "name": "stdout",
          "text": [
            "1  - NN :\n",
            "1.0\n",
            "3  - NN :\n",
            "1.0\n",
            "5  - NN :\n",
            "1.0\n",
            "7  - NN :\n",
            "1.0\n",
            "9  - NN :\n",
            "1.0\n"
          ]
        }
      ],
      "source": [
        "lis = [0,10,20,30,40,50,60,70,80,90]\n",
        "\n",
        "for i in range(1,11,2):\n",
        "  avg = 0.0\n",
        "  for j in range(10):\n",
        "    model = Knn(i)\n",
        "    X_train, X_test, y_train, y_test = train_test_split(X,y,test_size=0.30, random_state = j*10)\n",
        "    model.fit(X_train, y_train)\n",
        "    predict = model.predict(X_test)\n",
        "    # print(predict)\n",
        "    avg = avg + accuracy_score(y_test,predict)\n",
        "  print(i , \" - NN :\")\n",
        "  print(avg/10)\n",
        "  # print(avg)"
      ]
    },
    {
      "cell_type": "code",
      "execution_count": null,
      "metadata": {
        "id": "Nu6oOoyVuz3N"
      },
      "outputs": [],
      "source": []
    },
    {
      "cell_type": "code",
      "execution_count": null,
      "metadata": {
        "id": "udac2fh2BIFi",
        "colab": {
          "base_uri": "https://localhost:8080/"
        },
        "outputId": "739a0c19-1b4d-4fbd-d017-2530d176f0a5"
      },
      "outputs": [
        {
          "output_type": "stream",
          "name": "stdout",
          "text": [
            "root n - NN :\n",
            "0.9951456310679612\n",
            "30 - NN :\n",
            "0.9951456310679612\n",
            "45 - NN :\n",
            "0.9902912621359223\n",
            "60 - NN :\n",
            "0.9927184466019418\n"
          ]
        }
      ],
      "source": [
        "n = X_train.shape[0]\n",
        "rootN = int(n ** 0.5)\n",
        "avg = 0.0\n",
        "for i in range(10):\n",
        "  X_train, X_test, y_train, y_test = train_test_split(X,y,test_size=0.30, random_state = i*10) \n",
        "  model = Knn(rootN)\n",
        "  model.fit(X_train, y_train)\n",
        "  predict = model.predict(X_test)\n",
        "  avg = avg + accuracy_score(y_test, predict)\n",
        "print(\"root n - NN :\")\n",
        "print(avg/10)\n",
        "# print(avg)\n",
        "\n",
        "\n",
        "avg = 0.0\n",
        "for i in range(10):\n",
        "  X_train, X_test, y_train, y_test = train_test_split(X,y,test_size=0.30, random_state = i*10) \n",
        "  model = Knn(30)\n",
        "  model.fit(X_train, y_train)\n",
        "  predict = model.predict(X_test)\n",
        "  avg = avg + accuracy_score(y_test, predict)\n",
        "print(\"30 - NN :\")\n",
        "print(avg/10)\n",
        "# print(avg)\n",
        "\n",
        "avg = 0.0\n",
        "for i in range(10):\n",
        "  X_train, X_test, y_train, y_test = train_test_split(X,y,test_size=0.30, random_state = i*10) \n",
        "  model = Knn(45)\n",
        "  model.fit(X_train, y_train)\n",
        "  predict = model.predict(X_test)\n",
        "  avg = avg + accuracy_score(y_test, predict)\n",
        "print(\"45 - NN :\")\n",
        "print(avg/10)\n",
        "# print(avg)\n",
        "\n",
        "avg = 0.0\n",
        "for i in range(10):\n",
        "  X_train, X_test, y_train, y_test = train_test_split(X,y,test_size=0.30, random_state = i*10) \n",
        "  model = Knn(60)\n",
        "  model.fit(X_train, y_train)\n",
        "  predict = model.predict(X_test)\n",
        "  avg = avg + accuracy_score(y_test, predict)\n",
        "print(\"60 - NN :\")\n",
        "print(avg/10)\n",
        "# print(avg)\n",
        "\n"
      ]
    },
    {
      "cell_type": "code",
      "execution_count": null,
      "metadata": {
        "id": "iW5uZaDgu_qF",
        "colab": {
          "base_uri": "https://localhost:8080/"
        },
        "outputId": "6c2546df-dbb0-4359-ee91-8b3706792059"
      },
      "outputs": [
        {
          "output_type": "stream",
          "name": "stdout",
          "text": [
            "IINC : \n",
            "1.0\n"
          ]
        }
      ],
      "source": [
        "avg = 0.0\n",
        "for i in range(10):\n",
        "  model = KnnWeighted()\n",
        "  X_train, X_test, y_train, y_test = train_test_split(X, y, test_size = 0.30 ,random_state = i*10)\n",
        "  model.fit(X_train,y_train)\n",
        "  predict = model.predict(X_test)\n",
        "  avg = avg + accuracy_score(y_test,predict)\n",
        "print(\"IINC : \")\n",
        "print(avg/10)\n",
        "print(avg)"
      ]
    },
    {
      "cell_type": "code",
      "execution_count": null,
      "metadata": {
        "id": "nADWm5bUjlIL",
        "colab": {
          "base_uri": "https://localhost:8080/"
        },
        "outputId": "c4864bb2-7479-48ed-fec3-eb738b262d58"
      },
      "outputs": [
        {
          "output_type": "stream",
          "name": "stdout",
          "text": [
            "Knn Proposed : \n",
            "1.0\n"
          ]
        }
      ],
      "source": [
        "avg = 0.0\n",
        "# for i in range(10):\n",
        "model = KnnProposed()\n",
        "X_train, X_test, y_train, y_test = train_test_split(X, y, test_size = 0.30 ,random_state = i*10)\n",
        "model.fit(X_train,y_train)\n",
        "predict = model.predict(X_test)\n",
        "avg = avg + accuracy_score(y_test,predict)\n",
        "print(\"Knn Proposed : \")\n",
        "# print(avg/10)\n",
        "print(avg)"
      ]
    },
    {
      "cell_type": "code",
      "execution_count": null,
      "metadata": {
        "id": "N67VHMpelCk8"
      },
      "outputs": [],
      "source": []
    }
  ],
  "metadata": {
    "accelerator": "GPU",
    "colab": {
      "provenance": [],
      "include_colab_link": true
    },
    "gpuClass": "standard",
    "kernelspec": {
      "display_name": "Python 3",
      "name": "python3"
    },
    "language_info": {
      "name": "python"
    }
  },
  "nbformat": 4,
  "nbformat_minor": 0
}