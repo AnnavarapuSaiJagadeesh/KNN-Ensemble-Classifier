{
  "nbformat": 4,
  "nbformat_minor": 0,
  "metadata": {
    "colab": {
      "provenance": [],
      "include_colab_link": true
    },
    "kernelspec": {
      "name": "python3",
      "display_name": "Python 3"
    },
    "language_info": {
      "name": "python"
    }
  },
  "cells": [
    {
      "cell_type": "markdown",
      "metadata": {
        "id": "view-in-github",
        "colab_type": "text"
      },
      "source": [
        "<a href=\"https://colab.research.google.com/github/AnnavarapuSaiJagadeesh/Mini-Project/blob/main/knnEnsembleSegment.ipynb\" target=\"_parent\"><img src=\"https://colab.research.google.com/assets/colab-badge.svg\" alt=\"Open In Colab\"/></a>"
      ]
    },
    {
      "cell_type": "code",
      "execution_count": null,
      "metadata": {
        "id": "opiZHswIBIFj",
        "colab": {
          "base_uri": "https://localhost:8080/"
        },
        "outputId": "67166ab8-d64e-4b67-9ec5-66c8920d7946"
      },
      "outputs": [
        {
          "output_type": "stream",
          "name": "stdout",
          "text": [
            "Mounted at /content/drive\n",
            " australian.dat       glass.data\t        parkinson.txt\n",
            " balance-scale.data   haberman.data\t        qsar.csv\n",
            " banknote.txt\t      heart.dat\t\t        segmentation.data\n",
            " bcw.data\t      ionosphere.data\t        sonar.all-data\n",
            " breast-cancer.data   iris.data\t\t        vowel-context.data\n",
            " bupa.data\t      letter-recognition.data  'Wholesale customers data.csv'\n",
            " german.data\t      liver.data\t        wine.data\n"
          ]
        }
      ],
      "source": [
        "from google.colab import drive\n",
        "drive.mount('/content/drive')\n",
        "\n",
        "import os\n",
        "os.chdir(\"drive/My Drive/Colab Notebooks/Mini Project Knn/dataSets\")\n",
        "# os.chdir(\"dataSets/\")\n",
        "# os.chdir(\"dataSets/\")\n",
        "!ls\n"
      ]
    },
    {
      "cell_type": "code",
      "execution_count": null,
      "metadata": {
        "id": "is3tv6AFBIFY"
      },
      "outputs": [],
      "source": [
        "import math\n",
        "from collections import Counter\n",
        "import numpy as np\n",
        "import pandas as pd\n",
        "from sklearn.model_selection import train_test_split\n",
        "from sklearn.preprocessing import MinMaxScaler\n",
        "from sklearn.metrics import accuracy_score\n",
        "\n",
        "class KnnProposed:\n",
        "    def eucleadianDistance(self,row1, row2):\n",
        "        sum = 0\n",
        "        for i in range(len(row1)):\n",
        "            sum = sum + abs(row1[i] - row2[i])**2\n",
        "        return sum**(0.5)\n",
        "\n",
        "    def fit(self, X_train,y_train):\n",
        "        self.X_train = X_train\n",
        "        self.y_train = y_train\n",
        "\n",
        "    def predict(self,X_test):\n",
        "        predict = []\n",
        "        rootN = int(self.X_train.shape[0]**0.5)\n",
        "        for i in range(len(X_test)):\n",
        "            distance = []\n",
        "            probability = {}\n",
        "            for j in range(len(self.X_train)):\n",
        "                distance.append((self.eucleadianDistance(X_test.iloc[i],self.X_train.iloc[j]),j))\n",
        "            distance = sorted(distance)\n",
        "            for k in range(1,rootN,2):\n",
        "                reqDistance = distance[:k]\n",
        "                for i1 in range(len(reqDistance)):\n",
        "                    a = reqDistance[i1]\n",
        "                    if(self.y_train.iloc[a[1]] in probability.keys()):\n",
        "                        probability[self.y_train.iloc[a[1]]] = probability[self.y_train.iloc[a[1]]] + (1/(math.log(i1+2,2)))\n",
        "                    else:\n",
        "                        probability[self.y_train.iloc[a[1]]] = 0 + (1/(math.log(i1+2,2)))\n",
        "            key = list(probability.keys())\n",
        "            value = list(probability.values())\n",
        "            predict.append(key[value.index(max(value))])\n",
        "        return predict\n",
        "    \n",
        "\n",
        "class KnnWeighted:\n",
        "        \n",
        "    def eucleadianDistance(self,row1, row2):\n",
        "        sum = 0\n",
        "        for i in range(len(row1)):\n",
        "            sum = sum + abs(row1[i] - row2[i])**2\n",
        "        return sum**(0.5)\n",
        "\n",
        "    def fit(self, X_train,y_train):\n",
        "        self.X_train = X_train\n",
        "        # print(X.columns[:-1])\n",
        "        self.y_train = y_train\n",
        "\n",
        "    def predict(self,X_test):\n",
        "        predict = []\n",
        "        for i in range(len(X_test)):\n",
        "            distance = []\n",
        "            probability = {}\n",
        "            for j in range(len(self.X_train)):\n",
        "                distance.append((self.eucleadianDistance(X_test.iloc[i],self.X_train.iloc[j]),j))\n",
        "            distance = sorted(distance)\n",
        "            for i1 in range(len(distance)):\n",
        "                a = distance[i1]\n",
        "                if(self.y_train.iloc[a[1]] in probability.keys()):\n",
        "                    probability[self.y_train.iloc[a[1]]] = probability[self.y_train.iloc[a[1]]] + (1/(i1+1))\n",
        "                else:\n",
        "                    probability[self.y_train.iloc[a[1]]] = 0  + (1/(i1+1))\n",
        "            key = list(probability.keys())\n",
        "            value = list(probability.values())\n",
        "            predict.append(key[value.index(max(value))])\n",
        "        return predict\n",
        "\n",
        "\n",
        "class Knn:\n",
        "    def __init__(self,k):\n",
        "        self.k = k\n",
        "\n",
        "    def eucleadianDistance(self,row1, row2):\n",
        "        sum = 0\n",
        "        for i in range(len(row1)):\n",
        "            sum = sum + (row1[i] - row2[i])**2\n",
        "        return sum**(0.5)\n",
        "\n",
        "    def fit(self, X_train,y_train):\n",
        "        self.X_train = X_train\n",
        "        # print(X.columns[:-1])\n",
        "        self.y_train = y_train\n",
        "\n",
        "    def predict(self,X_test):\n",
        "        predict = []\n",
        "        for i in range(len(X_test)):\n",
        "            distance = []\n",
        "            # for num,j in enumerate(self.X_train):\n",
        "            for j in range(len(self.X_train)):\n",
        "                distance.append((self.eucleadianDistance(X_test.iloc[i],self.X_train.iloc[j]),j))\n",
        "            distance = sorted(distance)\n",
        "            k_nearest = distance[:self.k]\n",
        "            k_labels = [self.y_train.iloc[num] for dis,num in k_nearest]\n",
        "            predict.append(Counter(k_labels).most_common()[0][0])\n",
        "        return predict\n",
        "\n",
        "\n",
        "\n"
      ]
    },
    {
      "cell_type": "code",
      "execution_count": null,
      "metadata": {
        "id": "22nQJotiBIFe"
      },
      "outputs": [],
      "source": [
        "colNames= [\"result\"]\n",
        "for i in range(19):\n",
        "  colNames.append(\"a\"+str(i))\n",
        "# col = [\"a\"+str(i) for i in range(18)]\n",
        "# colNames = colNames + col\n",
        "df = pd.read_csv(\"segmentation.data\",sep=\",\",names=colNames,header = None)\n",
        "df.head()\n",
        "minscaler = MinMaxScaler()\n",
        "x = minscaler.fit_transform(df.drop(\"result\",axis =1))\n",
        "X = pd.DataFrame(x,columns=df.columns[1:])\n",
        "y = df[\"result\"]\n",
        "\n",
        "\n"
      ]
    },
    {
      "cell_type": "code",
      "source": [
        "print(y)"
      ],
      "metadata": {
        "colab": {
          "base_uri": "https://localhost:8080/"
        },
        "id": "fUvUoCl4HQcr",
        "outputId": "9219d82a-3fc7-4050-9e9b-0711812350d3"
      },
      "execution_count": null,
      "outputs": [
        {
          "output_type": "stream",
          "name": "stdout",
          "text": [
            "0       GRASS\n",
            "1       GRASS\n",
            "2       GRASS\n",
            "3       GRASS\n",
            "4       GRASS\n",
            "        ...  \n",
            "2305    GRASS\n",
            "2306    GRASS\n",
            "2307    GRASS\n",
            "2308    GRASS\n",
            "2309    GRASS\n",
            "Name: result, Length: 2310, dtype: object\n"
          ]
        }
      ]
    },
    {
      "cell_type": "code",
      "execution_count": null,
      "metadata": {
        "id": "AR8st47_BIFh",
        "colab": {
          "base_uri": "https://localhost:8080/"
        },
        "outputId": "1f6c28f7-40c5-48b2-9b76-581b193b46e0"
      },
      "outputs": [
        {
          "output_type": "stream",
          "name": "stdout",
          "text": [
            "1  - NN :\n",
            "0.9523809523809523\n",
            "3  - NN :\n",
            "0.9422799422799423\n",
            "5  - NN :\n",
            "0.9321789321789322\n",
            "7  - NN :\n",
            "0.937950937950938\n",
            "9  - NN :\n",
            "0.9365079365079365\n"
          ]
        }
      ],
      "source": [
        "lis = [0,10,20,30,40,50,60,70,80,90]\n",
        "\n",
        "for i in range(1,11,2):\n",
        "  avg = 0\n",
        "  for j in range(10):\n",
        "    model = Knn(i)\n",
        "    X_train, X_test, y_train, y_test = train_test_split(X,y,test_size=0.30, random_state = j*10)\n",
        "    model.fit(X_train, y_train)\n",
        "    prediction = model.predict(X_test)\n",
        "    avg = avg + accuracy_score(y_test,prediction)\n",
        "    print(i , \" - NN :\")\n",
        "  print(avg/10)\n",
        "  # print(avg)"
      ]
    },
    {
      "cell_type": "code",
      "execution_count": null,
      "metadata": {
        "id": "udac2fh2BIFi",
        "outputId": "1bc1eeec-3c35-4cf3-ea85-6769d5dccc30",
        "colab": {
          "base_uri": "https://localhost:8080/"
        }
      },
      "outputs": [
        {
          "output_type": "stream",
          "name": "stdout",
          "text": [
            "root n - NN :\n",
            "0.9018759018759018\n",
            "30 - NN :\n",
            "0.911976911976912\n",
            "45 - NN :\n",
            "0.9062049062049062\n",
            "60 - NN :\n",
            "0.9047619047619048\n"
          ]
        }
      ],
      "source": [
        "n = X_train.shape[0]\n",
        "rootN = int(n ** 0.5)\n",
        "avg = 0.0\n",
        "for i in range(10):\n",
        "  X_train, X_test, y_train, y_test = train_test_split(X,y,test_size=0.30, random_state = i*10) \n",
        "  model = Knn(rootN)\n",
        "  model.fit(X_train, y_train)\n",
        "  predict = model.predict(X_test)\n",
        "  avg = avg + accuracy_score(y_test, predict)\n",
        "print(\"root n - NN :\")\n",
        "print(avg/10)\n",
        "# print(avg)\n",
        "\n",
        "\n",
        "avg = 0.0\n",
        "for i in range(10):\n",
        "  X_train, X_test, y_train, y_test = train_test_split(X,y,test_size=0.30, random_state = i*10) \n",
        "  model = Knn(30)\n",
        "  model.fit(X_train, y_train)\n",
        "  predict = model.predict(X_test)\n",
        "  avg = avg + accuracy_score(y_test, predict)\n",
        "  print(\"30 - NN :\")\n",
        "print(avg/10)\n",
        "# print(avg)\n",
        "\n",
        "avg = 0.0\n",
        "for i in range(10):\n",
        "  X_train, X_test, y_train, y_test = train_test_split(X,y,test_size=0.30, random_state = i*10) \n",
        "  model = Knn(45)\n",
        "  model.fit(X_train, y_train)\n",
        "  predict = model.predict(X_test)\n",
        "  avg = avg + accuracy_score(y_test, predict)\n",
        "  print(\"45 - NN :\")\n",
        "print(avg/10)\n",
        "# print(avg)\n",
        "\n",
        "avg = 0.0\n",
        "for i in range(10):\n",
        "  X_train, X_test, y_train, y_test = train_test_split(X,y,test_size=0.30, random_state = i*10) \n",
        "  model = Knn(60)\n",
        "  model.fit(X_train, y_train)\n",
        "  predict = model.predict(X_test)\n",
        "  avg = avg + accuracy_score(y_test, predict)\n",
        "print(\"60 - NN :\")\n",
        "print(avg/10)\n",
        "# print(avg)\n",
        "\n"
      ]
    },
    {
      "cell_type": "code",
      "source": [
        "avg = 0.0\n",
        "# for i in range(10):\n",
        "model = KnnWeighted()\n",
        "X_train, X_test, y_train, y_test = train_test_split(X, y, test_size = 0.30 ,random_state = i*10)\n",
        "model.fit(X_train,y_train)\n",
        "predict = model.predict(X_test)\n",
        "avg = avg + accuracy_score(y_test,predict)\n",
        "print(\"IINC : \")\n",
        "# print(avg/10)\n",
        "print(avg)"
      ],
      "metadata": {
        "id": "AcHIFbJCvPX4",
        "colab": {
          "base_uri": "https://localhost:8080/"
        },
        "outputId": "4f6097d7-c222-4898-f47c-700ecca5f942"
      },
      "execution_count": null,
      "outputs": [
        {
          "output_type": "stream",
          "name": "stdout",
          "text": [
            "IINC : \n",
            "0.9581529581529582\n"
          ]
        }
      ]
    },
    {
      "cell_type": "code",
      "source": [
        "avg = 0.0\n",
        "# for i in range(10):\n",
        "model = KnnProposed()\n",
        "X_train, X_test, y_train, y_test = train_test_split(X, y, test_size = 0.30 ,random_state = i*10)\n",
        "model.fit(X_train,y_train)\n",
        "predict = model.predict(X_test)\n",
        "avg = avg + accuracy_score(y_test,predict)\n",
        "print(\"Knn Proposed : \")\n",
        "# print(avg/10)\n",
        "print(avg)"
      ],
      "metadata": {
        "colab": {
          "base_uri": "https://localhost:8080/"
        },
        "id": "nADWm5bUjlIL",
        "outputId": "7e28c83c-9c5b-4d7e-b291-1356a1f0aa10"
      },
      "execution_count": null,
      "outputs": [
        {
          "output_type": "stream",
          "name": "stdout",
          "text": [
            "Knn Proposed : \n",
            "0.950937950937951\n"
          ]
        }
      ]
    },
    {
      "cell_type": "code",
      "source": [],
      "metadata": {
        "id": "N67VHMpelCk8"
      },
      "execution_count": null,
      "outputs": []
    }
  ]
}